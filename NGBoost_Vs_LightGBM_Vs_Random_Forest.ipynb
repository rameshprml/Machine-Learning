{
 "cells": [
  {
   "cell_type": "code",
   "execution_count": 3,
   "metadata": {},
   "outputs": [
    {
     "name": "stdout",
     "output_type": "stream",
     "text": [
      "The shape of training dataset: 404\n",
      "The shape of testing dataset: 102\n",
      "Random Forest: R2 score on testing data: 79.40%\n",
      "LightGBM: R2 score on testing data: 77.57%\n",
      "[iter 0] loss=3.6582 val_loss=0.0000 scale=0.5000 norm=3.4016\n",
      "[iter 100] loss=3.0912 val_loss=0.0000 scale=1.0000 norm=3.7753\n",
      "[iter 200] loss=2.4271 val_loss=0.0000 scale=2.0000 norm=3.8893\n",
      "[iter 300] loss=1.9897 val_loss=0.0000 scale=2.0000 norm=3.0765\n",
      "NGBoost: R2 score on testing data: 80.70%\n",
      "P(y_0|x_0) is normally distributed with loc=17.57 and scale=1.67\n",
      "P(y_1|x_1) is normally distributed with loc=23.14 and scale=1.56\n"
     ]
    }
   ],
   "source": [
    "import numpy as np\n",
    "from sklearn.datasets import load_boston\n",
    "from sklearn.model_selection import train_test_split\n",
    "from ngboost import NGBRegressor\n",
    "from ngboost.learners import default_tree_learner\n",
    "from ngboost.distns import Normal\n",
    "from ngboost.scores import MLE\n",
    "from sklearn.ensemble import RandomForestRegressor\n",
    "from lightgbm.sklearn import LGBMRegressor\n",
    "from sklearn.metrics import r2_score\n",
    " \n",
    "# Load data\n",
    "dataset = load_boston()\n",
    "X, y = dataset.data, dataset.target\n",
    "features = dataset.feature_names\n",
    " \n",
    "SEED = 2019\n",
    " \n",
    "# Train/test split\n",
    "X_train, X_test, y_train, y_test = train_test_split(X, y, test_size=0.2, random_state=SEED)\n",
    "print('The shape of training dataset: {}'.format(X_train.shape[0]))\n",
    "print('The shape of testing dataset: {}'.format(X_test.shape[0]))\n",
    "\n",
    "# Fit and predict\n",
    "rf = RandomForestRegressor(n_estimators=400, random_state=SEED).fit(X_train, y_train)\n",
    "y_pred = rf.predict(X_test)\n",
    "print('Random Forest: R2 score on testing data: {:.2f}%'.format(100 * r2_score(y_test, y_pred)))\n",
    " \n",
    "# Fit and predict\n",
    "lgb = LGBMRegressor(n_estimators=400, random_state=SEED).fit(X_train, y_train)\n",
    "y_pred = lgb.predict(X_test)\n",
    "print('LightGBM: R2 score on testing data: {:.2f}%'.format(100 * r2_score(y_test, y_pred)))\n",
    " \n",
    "# Fit and predict\n",
    "np.random.seed(SEED)\n",
    "ngb = NGBRegressor(n_estimators=400, Base=default_tree_learner, Dist=Normal, Score=MLE).fit(X_train, y_train)\n",
    "y_pred = ngb.predict(X_test)\n",
    "print('NGBoost: R2 score on testing data: {:.2f}%'.format(100 * r2_score(y_test, y_pred)))\n",
    "\n",
    "# Probability distribution\n",
    "obs_idx = [0,1]\n",
    "dist = ngb.pred_dist(X_test[obs_idx, :])\n",
    "print('P(y_0|x_0) is normally distributed with loc={:.2f} and scale={:.2f}'.format(dist.loc[0], dist.scale[0]))\n",
    "print('P(y_1|x_1) is normally distributed with loc={:.2f} and scale={:.2f}'.format(dist.loc[1], dist.scale[1]))"
   ]
  },
  {
   "cell_type": "code",
   "execution_count": null,
   "metadata": {},
   "outputs": [],
   "source": []
  }
 ],
 "metadata": {
  "kernelspec": {
   "display_name": "Python 3",
   "language": "python",
   "name": "python3"
  },
  "language_info": {
   "codemirror_mode": {
    "name": "ipython",
    "version": 3
   },
   "file_extension": ".py",
   "mimetype": "text/x-python",
   "name": "python",
   "nbconvert_exporter": "python",
   "pygments_lexer": "ipython3",
   "version": "3.7.4"
  }
 },
 "nbformat": 4,
 "nbformat_minor": 2
}
